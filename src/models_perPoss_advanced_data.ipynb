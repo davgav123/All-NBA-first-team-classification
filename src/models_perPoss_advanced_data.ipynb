{
 "cells": [
  {
   "cell_type": "code",
   "execution_count": 1,
   "metadata": {},
   "outputs": [],
   "source": [
    "import pandas as pd\n",
    "import numpy as np\n",
    "from pathlib import Path"
   ]
  },
  {
   "cell_type": "markdown",
   "metadata": {},
   "source": [
    "### Load, merge and filter data"
   ]
  },
  {
   "cell_type": "code",
   "execution_count": 2,
   "metadata": {
    "tags": []
   },
   "outputs": [
    {
     "data": {
      "text/plain": [
       "(8295, 52)"
      ]
     },
     "execution_count": 2,
     "metadata": {},
     "output_type": "execute_result"
    }
   ],
   "source": [
    "per_poss = pd.read_csv(Path('../data/per_100_data.csv'))\n",
    "advanced = pd.read_csv(Path('../data/advanced_data.csv'))\n",
    "\n",
    "data = per_poss.merge(advanced, on=['Player', 'Pos', 'Age', 'Tm', 'G', 'MP', 'season', 'all_nba_1st_team'])\n",
    "data.dropna(axis=1, how='all', inplace=True)\n",
    "\n",
    "data.shape"
   ]
  },
  {
   "cell_type": "code",
   "execution_count": 3,
   "metadata": {},
   "outputs": [
    {
     "data": {
      "text/plain": [
       "Index(['Player', 'Pos', 'Age', 'Tm', 'G', 'GS', 'MP', 'FG', 'FGA', 'FG%', '3P',\n",
       "       '3PA', '3P%', '2P', '2PA', '2P%', 'FT', 'FTA', 'FT%', 'ORB', 'DRB',\n",
       "       'TRB', 'AST', 'STL', 'BLK', 'TOV', 'PF', 'PTS', 'ORtg', 'DRtg',\n",
       "       'season', 'all_nba_1st_team', 'PER', 'TS%', '3PAr', 'FTr', 'ORB%',\n",
       "       'DRB%', 'TRB%', 'AST%', 'STL%', 'BLK%', 'TOV%', 'USG%', 'OWS', 'DWS',\n",
       "       'WS', 'WS/48', 'OBPM', 'DBPM', 'BPM', 'VORP'],\n",
       "      dtype='object')"
      ]
     },
     "execution_count": 3,
     "metadata": {},
     "output_type": "execute_result"
    }
   ],
   "source": [
    "data.columns"
   ]
  },
  {
   "cell_type": "code",
   "execution_count": 4,
   "metadata": {},
   "outputs": [],
   "source": [
    "# transfer minutes to per game stat instead of season total\n",
    "data['MP'] = np.round(data['MP'] / data['G'], 1)"
   ]
  },
  {
   "cell_type": "code",
   "execution_count": 5,
   "metadata": {},
   "outputs": [],
   "source": [
    "data.drop(columns=['Player', 'Pos', 'Age', 'Tm', 'season'], inplace=True)\n",
    "data.drop(columns=['GS'], inplace=True)\n",
    "\n",
    "data = data[data.G > 40]\n",
    "data = data[data.MP > 25]\n",
    "\n",
    "data.drop(columns=['FG%', '2P%', '3P%', 'FT%'], inplace=True)"
   ]
  },
  {
   "cell_type": "code",
   "execution_count": 6,
   "metadata": {},
   "outputs": [
    {
     "data": {
      "text/html": [
       "<div>\n",
       "<style scoped>\n",
       "    .dataframe tbody tr th:only-of-type {\n",
       "        vertical-align: middle;\n",
       "    }\n",
       "\n",
       "    .dataframe tbody tr th {\n",
       "        vertical-align: top;\n",
       "    }\n",
       "\n",
       "    .dataframe thead th {\n",
       "        text-align: right;\n",
       "    }\n",
       "</style>\n",
       "<table border=\"1\" class=\"dataframe\">\n",
       "  <thead>\n",
       "    <tr style=\"text-align: right;\">\n",
       "      <th></th>\n",
       "      <th>G</th>\n",
       "      <th>MP</th>\n",
       "      <th>FG</th>\n",
       "      <th>FGA</th>\n",
       "      <th>3P</th>\n",
       "      <th>3PA</th>\n",
       "      <th>2P</th>\n",
       "      <th>2PA</th>\n",
       "      <th>FT</th>\n",
       "      <th>FTA</th>\n",
       "      <th>...</th>\n",
       "      <th>TOV%</th>\n",
       "      <th>USG%</th>\n",
       "      <th>OWS</th>\n",
       "      <th>DWS</th>\n",
       "      <th>WS</th>\n",
       "      <th>WS/48</th>\n",
       "      <th>OBPM</th>\n",
       "      <th>DBPM</th>\n",
       "      <th>BPM</th>\n",
       "      <th>VORP</th>\n",
       "    </tr>\n",
       "  </thead>\n",
       "  <tbody>\n",
       "    <tr>\n",
       "      <th>0</th>\n",
       "      <td>82</td>\n",
       "      <td>38.3</td>\n",
       "      <td>12.3</td>\n",
       "      <td>20.3</td>\n",
       "      <td>0.0</td>\n",
       "      <td>0.0</td>\n",
       "      <td>12.3</td>\n",
       "      <td>20.3</td>\n",
       "      <td>5.3</td>\n",
       "      <td>7.0</td>\n",
       "      <td>...</td>\n",
       "      <td>15.7</td>\n",
       "      <td>24.1</td>\n",
       "      <td>9.5</td>\n",
       "      <td>5.3</td>\n",
       "      <td>14.8</td>\n",
       "      <td>0.227</td>\n",
       "      <td>4.8</td>\n",
       "      <td>2.4</td>\n",
       "      <td>7.2</td>\n",
       "      <td>7.3</td>\n",
       "    </tr>\n",
       "    <tr>\n",
       "      <th>2</th>\n",
       "      <td>75</td>\n",
       "      <td>28.9</td>\n",
       "      <td>9.8</td>\n",
       "      <td>18.5</td>\n",
       "      <td>0.0</td>\n",
       "      <td>0.0</td>\n",
       "      <td>9.8</td>\n",
       "      <td>18.4</td>\n",
       "      <td>4.0</td>\n",
       "      <td>5.0</td>\n",
       "      <td>...</td>\n",
       "      <td>18.2</td>\n",
       "      <td>21.9</td>\n",
       "      <td>3.1</td>\n",
       "      <td>3.9</td>\n",
       "      <td>7.0</td>\n",
       "      <td>0.155</td>\n",
       "      <td>1.7</td>\n",
       "      <td>1.9</td>\n",
       "      <td>3.6</td>\n",
       "      <td>3.1</td>\n",
       "    </tr>\n",
       "    <tr>\n",
       "      <th>10</th>\n",
       "      <td>73</td>\n",
       "      <td>25.9</td>\n",
       "      <td>7.3</td>\n",
       "      <td>15.1</td>\n",
       "      <td>0.0</td>\n",
       "      <td>0.1</td>\n",
       "      <td>7.3</td>\n",
       "      <td>15.0</td>\n",
       "      <td>2.4</td>\n",
       "      <td>3.5</td>\n",
       "      <td>...</td>\n",
       "      <td>18.8</td>\n",
       "      <td>17.4</td>\n",
       "      <td>0.4</td>\n",
       "      <td>2.7</td>\n",
       "      <td>3.2</td>\n",
       "      <td>0.080</td>\n",
       "      <td>-1.6</td>\n",
       "      <td>1.4</td>\n",
       "      <td>-0.3</td>\n",
       "      <td>0.8</td>\n",
       "    </tr>\n",
       "    <tr>\n",
       "      <th>13</th>\n",
       "      <td>82</td>\n",
       "      <td>36.0</td>\n",
       "      <td>11.0</td>\n",
       "      <td>23.2</td>\n",
       "      <td>0.9</td>\n",
       "      <td>2.3</td>\n",
       "      <td>10.1</td>\n",
       "      <td>20.9</td>\n",
       "      <td>4.8</td>\n",
       "      <td>5.7</td>\n",
       "      <td>...</td>\n",
       "      <td>14.0</td>\n",
       "      <td>25.3</td>\n",
       "      <td>5.6</td>\n",
       "      <td>5.6</td>\n",
       "      <td>11.2</td>\n",
       "      <td>0.182</td>\n",
       "      <td>3.0</td>\n",
       "      <td>1.5</td>\n",
       "      <td>4.5</td>\n",
       "      <td>4.8</td>\n",
       "    </tr>\n",
       "    <tr>\n",
       "      <th>15</th>\n",
       "      <td>79</td>\n",
       "      <td>26.3</td>\n",
       "      <td>8.1</td>\n",
       "      <td>14.3</td>\n",
       "      <td>0.1</td>\n",
       "      <td>0.2</td>\n",
       "      <td>7.9</td>\n",
       "      <td>14.1</td>\n",
       "      <td>4.8</td>\n",
       "      <td>6.4</td>\n",
       "      <td>...</td>\n",
       "      <td>19.8</td>\n",
       "      <td>18.5</td>\n",
       "      <td>3.0</td>\n",
       "      <td>0.7</td>\n",
       "      <td>3.7</td>\n",
       "      <td>0.086</td>\n",
       "      <td>-0.4</td>\n",
       "      <td>-1.4</td>\n",
       "      <td>-1.8</td>\n",
       "      <td>0.1</td>\n",
       "    </tr>\n",
       "  </tbody>\n",
       "</table>\n",
       "<p>5 rows × 42 columns</p>\n",
       "</div>"
      ],
      "text/plain": [
       "     G    MP    FG   FGA   3P  3PA    2P   2PA   FT  FTA  ...  TOV%  USG%  \\\n",
       "0   82  38.3  12.3  20.3  0.0  0.0  12.3  20.3  5.3  7.0  ...  15.7  24.1   \n",
       "2   75  28.9   9.8  18.5  0.0  0.0   9.8  18.4  4.0  5.0  ...  18.2  21.9   \n",
       "10  73  25.9   7.3  15.1  0.0  0.1   7.3  15.0  2.4  3.5  ...  18.8  17.4   \n",
       "13  82  36.0  11.0  23.2  0.9  2.3  10.1  20.9  4.8  5.7  ...  14.0  25.3   \n",
       "15  79  26.3   8.1  14.3  0.1  0.2   7.9  14.1  4.8  6.4  ...  19.8  18.5   \n",
       "\n",
       "    OWS  DWS    WS  WS/48  OBPM  DBPM  BPM  VORP  \n",
       "0   9.5  5.3  14.8  0.227   4.8   2.4  7.2   7.3  \n",
       "2   3.1  3.9   7.0  0.155   1.7   1.9  3.6   3.1  \n",
       "10  0.4  2.7   3.2  0.080  -1.6   1.4 -0.3   0.8  \n",
       "13  5.6  5.6  11.2  0.182   3.0   1.5  4.5   4.8  \n",
       "15  3.0  0.7   3.7  0.086  -0.4  -1.4 -1.8   0.1  \n",
       "\n",
       "[5 rows x 42 columns]"
      ]
     },
     "execution_count": 6,
     "metadata": {},
     "output_type": "execute_result"
    }
   ],
   "source": [
    "data.head()"
   ]
  },
  {
   "cell_type": "markdown",
   "metadata": {},
   "source": [
    "### split data and scale it"
   ]
  },
  {
   "cell_type": "code",
   "execution_count": 7,
   "metadata": {},
   "outputs": [],
   "source": [
    "from sklearn.model_selection import train_test_split"
   ]
  },
  {
   "cell_type": "code",
   "execution_count": 8,
   "metadata": {},
   "outputs": [],
   "source": [
    "X = data.drop(columns=['all_nba_1st_team'])\n",
    "y = data['all_nba_1st_team']"
   ]
  },
  {
   "cell_type": "code",
   "execution_count": 9,
   "metadata": {},
   "outputs": [],
   "source": [
    "X_train, X_test, y_train, y_test = train_test_split(X, y, test_size=0.33, random_state=27, stratify=y)"
   ]
  },
  {
   "cell_type": "code",
   "execution_count": 10,
   "metadata": {},
   "outputs": [
    {
     "data": {
      "text/plain": [
       "(array([1394,   27]), array([687,  13]))"
      ]
     },
     "execution_count": 10,
     "metadata": {},
     "output_type": "execute_result"
    }
   ],
   "source": [
    "np.bincount(y_train), np.bincount(y_test)"
   ]
  },
  {
   "cell_type": "code",
   "execution_count": 11,
   "metadata": {},
   "outputs": [],
   "source": [
    "from sklearn.preprocessing import StandardScaler"
   ]
  },
  {
   "cell_type": "code",
   "execution_count": 12,
   "metadata": {},
   "outputs": [],
   "source": [
    "scaler = StandardScaler()\n",
    "scaler.fit(X_train)\n",
    "\n",
    "X_train = scaler.transform(X_train)\n",
    "X_test = scaler.transform(X_test)"
   ]
  },
  {
   "cell_type": "markdown",
   "metadata": {},
   "source": [
    "### Create model without sampling data"
   ]
  },
  {
   "cell_type": "code",
   "execution_count": 13,
   "metadata": {},
   "outputs": [],
   "source": [
    "from sklearn.svm import SVC\n",
    "from sklearn.ensemble import RandomForestClassifier, GradientBoostingClassifier\n",
    "from sklearn.model_selection import GridSearchCV"
   ]
  },
  {
   "cell_type": "code",
   "execution_count": 14,
   "metadata": {},
   "outputs": [],
   "source": [
    "def create_model(X_train, y_train, estimator, grid, scoring, cv=10):\n",
    "    clf = GridSearchCV(estimator=estimator, param_grid=grid, scoring=scoring, cv=cv)\n",
    "    clf.fit(X_train, y_train)\n",
    "\n",
    "    return clf.best_estimator_, clf.best_params_\n"
   ]
  },
  {
   "cell_type": "code",
   "execution_count": 15,
   "metadata": {},
   "outputs": [],
   "source": [
    "from sklearn.metrics import confusion_matrix, classification_report, log_loss, roc_auc_score\n",
    "from sklearn.dummy import DummyClassifier"
   ]
  },
  {
   "cell_type": "code",
   "execution_count": 16,
   "metadata": {},
   "outputs": [],
   "source": [
    "def evaluate_model(estimator, X_test, y_test):\n",
    "    y_predicted = estimator.predict(X_test)\n",
    "\n",
    "    print('confusion matrix:')\n",
    "    print(confusion_matrix(y_test, y_predicted))\n",
    "    print('-------------------------')\n",
    "    print('classification report:')\n",
    "    print(classification_report(y_test, y_predicted))\n",
    "    print('-------------------------')\n",
    "    print('roc auc score:', roc_auc_score(y_test, y_predicted))\n",
    "    print('-------------------------')\n",
    "    print('Log loss:', log_loss(y_test, y_predicted))\n",
    "    print('-------------------------')\n"
   ]
  },
  {
   "cell_type": "code",
   "execution_count": 17,
   "metadata": {},
   "outputs": [],
   "source": [
    "grid_svc = {\n",
    "    'kernel': ['rbf'],\n",
    "    'C': [10**i for i in range(-5, 5)],\n",
    "    'gamma': ['scale', 'auto'] + [10**i for i in range(-3, 3)],\n",
    "    'probability': [True],\n",
    "    'random_state': [27]\n",
    "}\n",
    "\n",
    "grid_rfc = {\n",
    "    'n_estimators': np.linspace(start=50, stop=300, num=6, dtype=int),\n",
    "    'criterion': ['gini'],\n",
    "    'max_depth': np.linspace(start=10, stop=100, num=10, dtype=int),\n",
    "    'random_state': [27]\n",
    "}\n",
    "\n",
    "grid_gbc = {\n",
    "    'loss': ['deviance'],\n",
    "    'n_estimators': np.linspace(start=50, stop=300, num=6, dtype=int),\n",
    "    'max_depth': np.linspace(start=10, stop=100, num=10, dtype=int),\n",
    "    'max_features': [None, 'sqrt'],\n",
    "    'random_state': [27]\n",
    "}"
   ]
  },
  {
   "cell_type": "code",
   "execution_count": 18,
   "metadata": {
    "tags": []
   },
   "outputs": [
    {
     "name": "stdout",
     "output_type": "stream",
     "text": [
      "{'C': 10000, 'gamma': 0.001, 'kernel': 'rbf', 'probability': True, 'random_state': 27}\n",
      "confusion matrix:\n",
      "[[681   6]\n",
      " [  8   5]]\n",
      "-------------------------\n",
      "classification report:\n",
      "              precision    recall  f1-score   support\n",
      "\n",
      "           0       0.99      0.99      0.99       687\n",
      "           1       0.45      0.38      0.42        13\n",
      "\n",
      "    accuracy                           0.98       700\n",
      "   macro avg       0.72      0.69      0.70       700\n",
      "weighted avg       0.98      0.98      0.98       700\n",
      "\n",
      "-------------------------\n",
      "roc auc score: 0.687940880080618\n",
      "-------------------------\n",
      "Log loss: 0.6907823815904734\n",
      "-------------------------\n"
     ]
    }
   ],
   "source": [
    "model_svc, params = create_model(X_train, y_train, SVC(), grid_svc, scoring='recall', cv=10)\n",
    "\n",
    "print(params)\n",
    "\n",
    "evaluate_model(model_svc, X_test, y_test)"
   ]
  },
  {
   "cell_type": "code",
   "execution_count": 19,
   "metadata": {
    "tags": []
   },
   "outputs": [
    {
     "name": "stdout",
     "output_type": "stream",
     "text": [
      "{'criterion': 'gini', 'max_depth': 10, 'n_estimators': 150, 'random_state': 27}\n",
      "confusion matrix:\n",
      "[[687   0]\n",
      " [ 10   3]]\n",
      "-------------------------\n",
      "classification report:\n",
      "              precision    recall  f1-score   support\n",
      "\n",
      "           0       0.99      1.00      0.99       687\n",
      "           1       1.00      0.23      0.38        13\n",
      "\n",
      "    accuracy                           0.99       700\n",
      "   macro avg       0.99      0.62      0.68       700\n",
      "weighted avg       0.99      0.99      0.98       700\n",
      "\n",
      "-------------------------\n",
      "roc auc score: 0.6153846153846154\n",
      "-------------------------\n",
      "Log loss: 0.4934110913558679\n",
      "-------------------------\n"
     ]
    }
   ],
   "source": [
    "model_rfc, params = create_model(X_train, y_train, RandomForestClassifier(), grid_rfc, scoring='recall', cv=10)\n",
    "\n",
    "print(params)\n",
    "\n",
    "evaluate_model(model_rfc, X_test, y_test)"
   ]
  },
  {
   "cell_type": "code",
   "execution_count": 20,
   "metadata": {
    "tags": []
   },
   "outputs": [
    {
     "name": "stdout",
     "output_type": "stream",
     "text": [
      "{'loss': 'deviance', 'max_depth': 20, 'max_features': None, 'n_estimators': 100, 'random_state': 27}\n",
      "confusion matrix:\n",
      "[[679   8]\n",
      " [ 10   3]]\n",
      "-------------------------\n",
      "classification report:\n",
      "              precision    recall  f1-score   support\n",
      "\n",
      "           0       0.99      0.99      0.99       687\n",
      "           1       0.27      0.23      0.25        13\n",
      "\n",
      "    accuracy                           0.97       700\n",
      "   macro avg       0.63      0.61      0.62       700\n",
      "weighted avg       0.97      0.97      0.97       700\n",
      "\n",
      "-------------------------\n",
      "roc auc score: 0.6095621990818498\n",
      "-------------------------\n",
      "Log loss: 0.8881491026969065\n",
      "-------------------------\n"
     ]
    }
   ],
   "source": [
    "model_gbc, params = create_model(X_train, y_train, GradientBoostingClassifier(), grid_gbc, scoring='recall', cv=10)\n",
    "\n",
    "print(params)\n",
    "\n",
    "evaluate_model(model_gbc, X_test, y_test)"
   ]
  },
  {
   "cell_type": "markdown",
   "metadata": {},
   "source": [
    "### undersampling"
   ]
  },
  {
   "cell_type": "code",
   "execution_count": 21,
   "metadata": {},
   "outputs": [],
   "source": [
    "from imblearn.under_sampling import RandomUnderSampler"
   ]
  },
  {
   "cell_type": "code",
   "execution_count": 22,
   "metadata": {},
   "outputs": [],
   "source": [
    "ratio = 1/4\n",
    "rus = RandomUnderSampler(random_state=27, sampling_strategy=ratio)\n",
    "X_train_resampled, y_train_resampled = rus.fit_resample(X_train, y_train)"
   ]
  },
  {
   "cell_type": "code",
   "execution_count": 23,
   "metadata": {},
   "outputs": [
    {
     "data": {
      "text/plain": [
       "(array([1394,   27]), array([108,  27]))"
      ]
     },
     "execution_count": 23,
     "metadata": {},
     "output_type": "execute_result"
    }
   ],
   "source": [
    "np.bincount(y_train), np.bincount(y_train_resampled)"
   ]
  },
  {
   "cell_type": "code",
   "execution_count": 24,
   "metadata": {
    "tags": []
   },
   "outputs": [
    {
     "name": "stdout",
     "output_type": "stream",
     "text": [
      "{'C': 10, 'gamma': 0.01, 'kernel': 'rbf', 'probability': True, 'random_state': 27}\n",
      "confusion matrix:\n",
      "[[633  54]\n",
      " [  2  11]]\n",
      "-------------------------\n",
      "classification report:\n",
      "              precision    recall  f1-score   support\n",
      "\n",
      "           0       1.00      0.92      0.96       687\n",
      "           1       0.17      0.85      0.28        13\n",
      "\n",
      "    accuracy                           0.92       700\n",
      "   macro avg       0.58      0.88      0.62       700\n",
      "weighted avg       0.98      0.92      0.95       700\n",
      "\n",
      "-------------------------\n",
      "roc auc score: 0.883775613033255\n",
      "-------------------------\n",
      "Log loss: 2.763163794823185\n",
      "-------------------------\n"
     ]
    }
   ],
   "source": [
    "model_undersampling_svc, params = create_model(X_train_resampled, y_train_resampled, SVC(), grid_svc, scoring='recall', cv=10)\n",
    "\n",
    "print(params)\n",
    "\n",
    "evaluate_model(model_undersampling_svc, X_test, y_test)"
   ]
  },
  {
   "cell_type": "code",
   "execution_count": 25,
   "metadata": {
    "tags": []
   },
   "outputs": [
    {
     "name": "stdout",
     "output_type": "stream",
     "text": [
      "{'criterion': 'gini', 'max_depth': 10, 'n_estimators': 100, 'random_state': 27}\n",
      "confusion matrix:\n",
      "[[657  30]\n",
      " [  1  12]]\n",
      "-------------------------\n",
      "classification report:\n",
      "              precision    recall  f1-score   support\n",
      "\n",
      "           0       1.00      0.96      0.98       687\n",
      "           1       0.29      0.92      0.44        13\n",
      "\n",
      "    accuracy                           0.96       700\n",
      "   macro avg       0.64      0.94      0.71       700\n",
      "weighted avg       0.99      0.96      0.97       700\n",
      "\n",
      "-------------------------\n",
      "roc auc score: 0.9397044004030904\n",
      "-------------------------\n",
      "Log loss: 1.5296086516644822\n",
      "-------------------------\n"
     ]
    }
   ],
   "source": [
    "model_undersampling_rfc, params = create_model(X_train_resampled, y_train_resampled, RandomForestClassifier(), grid_rfc, scoring='recall', cv=10)\n",
    "\n",
    "print(params)\n",
    "\n",
    "evaluate_model(model_undersampling_rfc, X_test, y_test)"
   ]
  },
  {
   "cell_type": "code",
   "execution_count": 26,
   "metadata": {
    "tags": []
   },
   "outputs": [
    {
     "name": "stdout",
     "output_type": "stream",
     "text": [
      "{'loss': 'deviance', 'max_depth': 20, 'max_features': 'sqrt', 'n_estimators': 250, 'random_state': 27}\n",
      "confusion matrix:\n",
      "[[666  21]\n",
      " [  2  11]]\n",
      "-------------------------\n",
      "classification report:\n",
      "              precision    recall  f1-score   support\n",
      "\n",
      "           0       1.00      0.97      0.98       687\n",
      "           1       0.34      0.85      0.49        13\n",
      "\n",
      "    accuracy                           0.97       700\n",
      "   macro avg       0.67      0.91      0.74       700\n",
      "weighted avg       0.98      0.97      0.97       700\n",
      "\n",
      "-------------------------\n",
      "roc auc score: 0.9077930802821634\n",
      "-------------------------\n",
      "Log loss: 1.1348694980414007\n",
      "-------------------------\n"
     ]
    }
   ],
   "source": [
    "model_undersampling_gbc, params = create_model(X_train_resampled, y_train_resampled, GradientBoostingClassifier(), grid_gbc, scoring='recall', cv=10)\n",
    "\n",
    "print(params)\n",
    "\n",
    "evaluate_model(model_undersampling_gbc, X_test, y_test)"
   ]
  },
  {
   "cell_type": "markdown",
   "metadata": {},
   "source": [
    "### oversampling"
   ]
  },
  {
   "cell_type": "code",
   "execution_count": 27,
   "metadata": {},
   "outputs": [],
   "source": [
    "from imblearn.over_sampling import RandomOverSampler"
   ]
  },
  {
   "cell_type": "code",
   "execution_count": 28,
   "metadata": {},
   "outputs": [],
   "source": [
    "ratio = 1/4\n",
    "ros = RandomOverSampler(random_state=27, sampling_strategy=ratio)\n",
    "X_train_resampled, y_train_resampled = ros.fit_resample(X_train, y_train)"
   ]
  },
  {
   "cell_type": "code",
   "execution_count": 29,
   "metadata": {},
   "outputs": [
    {
     "data": {
      "text/plain": [
       "(array([1394,   27]), array([1394,  348]))"
      ]
     },
     "execution_count": 29,
     "metadata": {},
     "output_type": "execute_result"
    }
   ],
   "source": [
    "np.bincount(y_train), np.bincount(y_train_resampled)"
   ]
  },
  {
   "cell_type": "code",
   "execution_count": 30,
   "metadata": {
    "tags": []
   },
   "outputs": [
    {
     "name": "stdout",
     "output_type": "stream",
     "text": [
      "{'C': 1, 'gamma': 'scale', 'kernel': 'rbf', 'probability': True, 'random_state': 27}\n",
      "confusion matrix:\n",
      "[[668  19]\n",
      " [  5   8]]\n",
      "-------------------------\n",
      "classification report:\n",
      "              precision    recall  f1-score   support\n",
      "\n",
      "           0       0.99      0.97      0.98       687\n",
      "           1       0.30      0.62      0.40        13\n",
      "\n",
      "    accuracy                           0.97       700\n",
      "   macro avg       0.64      0.79      0.69       700\n",
      "weighted avg       0.98      0.97      0.97       700\n",
      "\n",
      "-------------------------\n",
      "roc auc score: 0.7938640689732394\n",
      "-------------------------\n",
      "Log loss: 1.184208322612901\n",
      "-------------------------\n"
     ]
    }
   ],
   "source": [
    "model_oversampling_svc, params = create_model(X_train_resampled, y_train_resampled, SVC(), grid_svc, scoring='recall', cv=10)\n",
    "\n",
    "print(params)\n",
    "\n",
    "evaluate_model(model_oversampling_svc, X_test, y_test)"
   ]
  },
  {
   "cell_type": "code",
   "execution_count": 31,
   "metadata": {
    "tags": []
   },
   "outputs": [
    {
     "name": "stdout",
     "output_type": "stream",
     "text": [
      "{'criterion': 'gini', 'max_depth': 10, 'n_estimators': 50, 'random_state': 27}\n",
      "confusion matrix:\n",
      "[[686   1]\n",
      " [  9   4]]\n",
      "-------------------------\n",
      "classification report:\n",
      "              precision    recall  f1-score   support\n",
      "\n",
      "           0       0.99      1.00      0.99       687\n",
      "           1       0.80      0.31      0.44        13\n",
      "\n",
      "    accuracy                           0.99       700\n",
      "   macro avg       0.89      0.65      0.72       700\n",
      "weighted avg       0.98      0.99      0.98       700\n",
      "\n",
      "-------------------------\n",
      "roc auc score: 0.6531183518083081\n",
      "-------------------------\n",
      "Log loss: 0.49341223363791104\n",
      "-------------------------\n"
     ]
    }
   ],
   "source": [
    "model_oversampling_rfc, params = create_model(X_train_resampled, y_train_resampled, RandomForestClassifier(), grid_rfc, scoring='recall', cv=10)\n",
    "\n",
    "print(params)\n",
    "\n",
    "evaluate_model(model_oversampling_rfc, X_test, y_test)"
   ]
  },
  {
   "cell_type": "code",
   "execution_count": 32,
   "metadata": {
    "tags": []
   },
   "outputs": [
    {
     "name": "stdout",
     "output_type": "stream",
     "text": [
      "{'loss': 'deviance', 'max_depth': 10, 'max_features': None, 'n_estimators': 50, 'random_state': 27}\n",
      "confusion matrix:\n",
      "[[682   5]\n",
      " [  8   5]]\n",
      "-------------------------\n",
      "classification report:\n",
      "              precision    recall  f1-score   support\n",
      "\n",
      "           0       0.99      0.99      0.99       687\n",
      "           1       0.50      0.38      0.43        13\n",
      "\n",
      "    accuracy                           0.98       700\n",
      "   macro avg       0.74      0.69      0.71       700\n",
      "weighted avg       0.98      0.98      0.98       700\n",
      "\n",
      "-------------------------\n",
      "roc auc score: 0.6886686821184638\n",
      "-------------------------\n",
      "Log loss: 0.6414401301728435\n",
      "-------------------------\n"
     ]
    }
   ],
   "source": [
    "model_oversampling_gbc, params = create_model(X_train_resampled, y_train_resampled, GradientBoostingClassifier(), grid_gbc, scoring='recall', cv=10)\n",
    "\n",
    "print(params)\n",
    "\n",
    "evaluate_model(model_oversampling_gbc, X_test, y_test)"
   ]
  },
  {
   "cell_type": "markdown",
   "metadata": {},
   "source": [
    "### SMOTE"
   ]
  },
  {
   "cell_type": "code",
   "execution_count": 33,
   "metadata": {},
   "outputs": [],
   "source": [
    "from imblearn.over_sampling import SMOTE"
   ]
  },
  {
   "cell_type": "code",
   "execution_count": 34,
   "metadata": {},
   "outputs": [],
   "source": [
    "smote = SMOTE(random_state=27, k_neighbors=5)\n",
    "X_train_resampled, y_train_resampled = smote.fit_resample(X_train, y_train)"
   ]
  },
  {
   "cell_type": "code",
   "execution_count": 35,
   "metadata": {},
   "outputs": [
    {
     "data": {
      "text/plain": [
       "(array([1394,   27]), array([1394, 1394]))"
      ]
     },
     "execution_count": 35,
     "metadata": {},
     "output_type": "execute_result"
    }
   ],
   "source": [
    "np.bincount(y_train), np.bincount(y_train_resampled)"
   ]
  },
  {
   "cell_type": "code",
   "execution_count": 36,
   "metadata": {
    "tags": []
   },
   "outputs": [
    {
     "name": "stdout",
     "output_type": "stream",
     "text": [
      "{'C': 0.1, 'gamma': 'scale', 'kernel': 'rbf', 'probability': True, 'random_state': 27}\n",
      "confusion matrix:\n",
      "[[644  43]\n",
      " [  1  12]]\n",
      "-------------------------\n",
      "classification report:\n",
      "              precision    recall  f1-score   support\n",
      "\n",
      "           0       1.00      0.94      0.97       687\n",
      "           1       0.22      0.92      0.35        13\n",
      "\n",
      "    accuracy                           0.94       700\n",
      "   macro avg       0.61      0.93      0.66       700\n",
      "weighted avg       0.98      0.94      0.96       700\n",
      "\n",
      "-------------------------\n",
      "roc auc score: 0.9302429739110962\n",
      "-------------------------\n",
      "Log loss: 2.1710579200936704\n",
      "-------------------------\n"
     ]
    }
   ],
   "source": [
    "model_smote_svc, params = create_model(X_train_resampled, y_train_resampled, SVC(), grid_svc, scoring='recall', cv=10)\n",
    "\n",
    "print(params)\n",
    "\n",
    "evaluate_model(model_smote_svc, X_test, y_test)"
   ]
  },
  {
   "cell_type": "code",
   "execution_count": 37,
   "metadata": {
    "tags": []
   },
   "outputs": [
    {
     "name": "stdout",
     "output_type": "stream",
     "text": [
      "{'criterion': 'gini', 'max_depth': 10, 'n_estimators': 50, 'random_state': 27}\n",
      "confusion matrix:\n",
      "[[672  15]\n",
      " [  6   7]]\n",
      "-------------------------\n",
      "classification report:\n",
      "              precision    recall  f1-score   support\n",
      "\n",
      "           0       0.99      0.98      0.98       687\n",
      "           1       0.32      0.54      0.40        13\n",
      "\n",
      "    accuracy                           0.97       700\n",
      "   macro avg       0.65      0.76      0.69       700\n",
      "weighted avg       0.98      0.97      0.97       700\n",
      "\n",
      "-------------------------\n",
      "roc auc score: 0.7583137386630836\n",
      "-------------------------\n",
      "Log loss: 1.0361804260779686\n",
      "-------------------------\n"
     ]
    }
   ],
   "source": [
    "model_smote_rfc, params = create_model(X_train_resampled, y_train_resampled, RandomForestClassifier(), grid_rfc, scoring='recall', cv=10)\n",
    "\n",
    "print(params)\n",
    "\n",
    "evaluate_model(model_smote_rfc, X_test, y_test)"
   ]
  },
  {
   "cell_type": "code",
   "execution_count": 38,
   "metadata": {
    "tags": []
   },
   "outputs": [
    {
     "name": "stdout",
     "output_type": "stream",
     "text": [
      "{'loss': 'deviance', 'max_depth': 10, 'max_features': 'sqrt', 'n_estimators': 200, 'random_state': 27}\n",
      "confusion matrix:\n",
      "[[678   9]\n",
      " [ 10   3]]\n",
      "-------------------------\n",
      "classification report:\n",
      "              precision    recall  f1-score   support\n",
      "\n",
      "           0       0.99      0.99      0.99       687\n",
      "           1       0.25      0.23      0.24        13\n",
      "\n",
      "    accuracy                           0.97       700\n",
      "   macro avg       0.62      0.61      0.61       700\n",
      "weighted avg       0.97      0.97      0.97       700\n",
      "\n",
      "-------------------------\n",
      "roc auc score: 0.6088343970440041\n",
      "-------------------------\n",
      "Log loss: 0.9374913541145364\n",
      "-------------------------\n"
     ]
    }
   ],
   "source": [
    "model_smote_gbc, params = create_model(X_train_resampled, y_train_resampled, GradientBoostingClassifier(), grid_gbc, scoring='recall', cv=10)\n",
    "\n",
    "print(params)\n",
    "\n",
    "evaluate_model(model_smote_gbc, X_test, y_test)"
   ]
  }
 ],
 "metadata": {
  "kernelspec": {
   "display_name": "Python 3.8.5 64-bit",
   "language": "python",
   "name": "python38564bit69334052dc134bb69c4c72fd0130cada"
  },
  "language_info": {
   "codemirror_mode": {
    "name": "ipython",
    "version": 3
   },
   "file_extension": ".py",
   "mimetype": "text/x-python",
   "name": "python",
   "nbconvert_exporter": "python",
   "pygments_lexer": "ipython3",
   "version": "3.8.5"
  }
 },
 "nbformat": 4,
 "nbformat_minor": 4
}
